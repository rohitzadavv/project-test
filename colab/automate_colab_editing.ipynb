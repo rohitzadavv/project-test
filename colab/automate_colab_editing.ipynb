{
 "cells": [
  {
   "cell_type": "code",
   "execution_count": 1,
   "metadata": {},
   "outputs": [],
   "source": [
    "import os, re, glob"
   ]
  },
  {
   "cell_type": "markdown",
   "metadata": {},
   "source": [
    "## Collect notebooks from regular branch"
   ]
  },
  {
   "cell_type": "code",
   "execution_count": 4,
   "metadata": {},
   "outputs": [],
   "source": [
    "notebooks_or = glob.glob('/Users/gw18g940/OneDrive - Universitaet Bern/Courses/DataAnalytics_course/DataAnalytics_course/*.ipynb')\n"
   ]
  },
  {
   "cell_type": "markdown",
   "metadata": {},
   "source": [
    "## Find which packages to add in each notebook by looking for \"special\" packages"
   ]
  },
  {
   "cell_type": "code",
   "execution_count": 6,
   "metadata": {},
   "outputs": [],
   "source": [
    "external_packages = ['aicsimageio','ipyvolume','mrc','trackpy','stardist','cellpose']\n",
    "new_packages = []\n",
    "for noteb in notebooks_or:\n",
    "    with open(noteb) as n:\n",
    "        all_lines = n.readlines()\n",
    "        to_add = []\n",
    "        for a in all_lines:\n",
    "            if len(a) < 1000:\n",
    "                for e in external_packages:\n",
    "                    if a.find(e) > 0:\n",
    "                        if e not in to_add:\n",
    "                            to_add.append(e)\n",
    "    new_packages.append(to_add)"
   ]
  },
  {
   "cell_type": "code",
   "execution_count": 7,
   "metadata": {},
   "outputs": [
    {
     "data": {
      "text/plain": [
       "[[], [], [], [], [], [], [], [], [], [], [], [], [], [], [], []]"
      ]
     },
     "execution_count": 7,
     "metadata": {},
     "output_type": "execute_result"
    }
   ],
   "source": [
    "new_packages"
   ]
  },
  {
   "cell_type": "markdown",
   "metadata": {},
   "source": [
    "## Define basic cells to add to notebook"
   ]
  },
  {
   "cell_type": "code",
   "execution_count": 18,
   "metadata": {},
   "outputs": [],
   "source": [
    "data_import = \"\"\"  {\n",
    "   \"cell_type\": \"code\",\n",
    "   \"execution_count\": null,\n",
    "   \"metadata\": {},\n",
    "   \"outputs\": [],\n",
    "   \"source\": [\n",
    "    \"import sys, os\\\\n\",\n",
    "    \"if 'google.colab' in sys.modules:\\\\n\",\n",
    "    \"    if not os.path.isdir('Data'):\\\\n\",\n",
    "    \"        !curl https://raw.githubusercontent.com/guiwitz/NumpyPandas_course/master/colab/colab_data.sh -o colab_data.sh\\\\n\",\n",
    "    \"        !curl https://raw.githubusercontent.com/guiwitz/NumpyPandas_course/master/svg.py -o svg.py\\\\n\",\n",
    "    \"        !sh colab_data.sh\"\n",
    "   ]\n",
    "  },\\n\"\"\""
   ]
  },
  {
   "cell_type": "markdown",
   "metadata": {},
   "source": [
    "## Define where to save new notebooks (colab branch)"
   ]
  },
  {
   "cell_type": "code",
   "execution_count": 19,
   "metadata": {},
   "outputs": [],
   "source": [
    "newpath = '/Users/gw18g940/OneDrive - Universitaet Bern/Courses/DataAnalytics_course/DataAnalytics_course_colab\\\n",
    "/NumpyPandas_course/'\n"
   ]
  },
  {
   "cell_type": "markdown",
   "metadata": {},
   "source": [
    "## Add Google drive import and package installation to each notebook"
   ]
  },
  {
   "cell_type": "code",
   "execution_count": 23,
   "metadata": {},
   "outputs": [
    {
     "name": "stdout",
     "output_type": "stream",
     "text": [
      "/Users/gw18g940/OneDrive - Universitaet Bern/Courses/DataAnalytics_course/DataAnalytics_course/05-DA_Numpy_combining_arrays.ipynb\n",
      "/Users/gw18g940/OneDrive - Universitaet Bern/Courses/DataAnalytics_course/DataAnalytics_course/99-DA_Pandas_Exercises.ipynb\n",
      "/Users/gw18g940/OneDrive - Universitaet Bern/Courses/DataAnalytics_course/DataAnalytics_course/98-DA_Numpy_Exercises.ipynb\n",
      "/Users/gw18g940/OneDrive - Universitaet Bern/Courses/DataAnalytics_course/DataAnalytics_course/01-DA_Numpy_arrays_creation.ipynb\n",
      "/Users/gw18g940/OneDrive - Universitaet Bern/Courses/DataAnalytics_course/DataAnalytics_course/09-DA_Pandas_operations.ipynb\n",
      "/Users/gw18g940/OneDrive - Universitaet Bern/Courses/DataAnalytics_course/DataAnalytics_course/11-DA_Pandas_splitting.ipynb\n",
      "/Users/gw18g940/OneDrive - Universitaet Bern/Courses/DataAnalytics_course/DataAnalytics_course/08-DA_Pandas_import_plotting.ipynb\n",
      "/Users/gw18g940/OneDrive - Universitaet Bern/Courses/DataAnalytics_course/DataAnalytics_course/06-DA_Pandas_introduction.ipynb\n",
      "/Users/gw18g940/OneDrive - Universitaet Bern/Courses/DataAnalytics_course/DataAnalytics_course/02-DA_Numpy_array_maths.ipynb\n",
      "/Users/gw18g940/OneDrive - Universitaet Bern/Courses/DataAnalytics_course/DataAnalytics_course/03-DA_Numpy_matplotlib.ipynb\n",
      "/Users/gw18g940/OneDrive - Universitaet Bern/Courses/DataAnalytics_course/DataAnalytics_course/10-DA_Pandas_combine.ipynb\n",
      "/Users/gw18g940/OneDrive - Universitaet Bern/Courses/DataAnalytics_course/DataAnalytics_course/12-DA_Pandas_realworld.ipynb\n",
      "/Users/gw18g940/OneDrive - Universitaet Bern/Courses/DataAnalytics_course/DataAnalytics_course/99-DA_Pandas_Solutions.ipynb\n",
      "/Users/gw18g940/OneDrive - Universitaet Bern/Courses/DataAnalytics_course/DataAnalytics_course/04-DA_Numpy_indexing.ipynb\n",
      "/Users/gw18g940/OneDrive - Universitaet Bern/Courses/DataAnalytics_course/DataAnalytics_course/07-DA_Pandas_structures.ipynb\n",
      "/Users/gw18g940/OneDrive - Universitaet Bern/Courses/DataAnalytics_course/DataAnalytics_course/98-DA_Numpy_Solutions.ipynb\n"
     ]
    }
   ],
   "source": [
    "for ind, n in enumerate(notebooks_or):\n",
    "    print(n)\n",
    "    fh = newpath + n.split('/')[-1]\n",
    "    counter = 0\n",
    "\n",
    "\n",
    "    with open(fh,'w') as new_file:\n",
    "        with open(n) as old_file:\n",
    "            for line in old_file:\n",
    "                if counter == 2:\n",
    "                    new_file.write(data_import)\n",
    "                    new_file.write(line)\n",
    "                else:\n",
    "                    new_file.write(line)\n",
    "                counter +=1\n"
   ]
  },
  {
   "cell_type": "code",
   "execution_count": null,
   "metadata": {},
   "outputs": [],
   "source": []
  }
 ],
 "metadata": {
  "kernelspec": {
   "display_name": "Python 3",
   "language": "python",
   "name": "python3"
  },
  "language_info": {
   "codemirror_mode": {
    "name": "ipython",
    "version": 3
   },
   "file_extension": ".py",
   "mimetype": "text/x-python",
   "name": "python",
   "nbconvert_exporter": "python",
   "pygments_lexer": "ipython3",
   "version": "3.8.2"
  },
  "toc": {
   "base_numbering": 1,
   "nav_menu": {},
   "number_sections": false,
   "sideBar": true,
   "skip_h1_title": false,
   "title_cell": "Table of Contents",
   "title_sidebar": "Contents",
   "toc_cell": false,
   "toc_position": {},
   "toc_section_display": true,
   "toc_window_display": true
  },
  "varInspector": {
   "cols": {
    "lenName": 16,
    "lenType": 16,
    "lenVar": 40
   },
   "kernels_config": {
    "python": {
     "delete_cmd_postfix": "",
     "delete_cmd_prefix": "del ",
     "library": "var_list.py",
     "varRefreshCmd": "print(var_dic_list())"
    },
    "r": {
     "delete_cmd_postfix": ") ",
     "delete_cmd_prefix": "rm(",
     "library": "var_list.r",
     "varRefreshCmd": "cat(var_dic_list()) "
    }
   },
   "types_to_exclude": [
    "module",
    "function",
    "builtin_function_or_method",
    "instance",
    "_Feature"
   ],
   "window_display": false
  }
 },
 "nbformat": 4,
 "nbformat_minor": 4
}
