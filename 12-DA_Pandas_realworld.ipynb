{
 "cells": [
  {
   "cell_type": "markdown",
   "metadata": {},
   "source": [
    "# 12. A complete example"
   ]
  },
  {
   "cell_type": "code",
   "execution_count": 1,
   "metadata": {},
   "outputs": [],
   "source": [
    "import pandas as pd\n",
    "import numpy as np\n",
    "import matplotlib.pyplot as plt\n",
    "\n",
    "import seaborn as sns"
   ]
  },
  {
   "cell_type": "markdown",
   "metadata": {},
   "source": [
    "We have seen now most of the basic features of Pandas including importing data, combining dataframes, aggregating information and plotting it. In this chapter, we are going to re-use these concepts with the real data seen in the [introduction chapter](06-DA_Pandas_introduction.ipynb). We are also going to explore some more advanced plotting libraries that exploit to the maximum dataframe structures."
   ]
  },
  {
   "cell_type": "markdown",
   "metadata": {},
   "source": [
    "## 12.1 Importing data"
   ]
  },
  {
   "cell_type": "markdown",
   "metadata": {},
   "source": [
    "We are importing here two tables provided openly by the Swiss National Science Foundation. One contains a list of all *projects* to which funds have been allocated since 1975. The other table contains a list of all *people* to which funds have been awarded during the same period:"
   ]
  },
  {
   "cell_type": "code",
   "execution_count": 7,
   "metadata": {},
   "outputs": [],
   "source": [
    "# local import\n",
    "projects = pd.read_csv('Data/P3_GrantExport.csv',sep = ';')\n",
    "persons = pd.read_csv('Data/P3_PersonExport.csv',sep = ';')\n",
    "\n",
    "# import from url\n",
    "#projects = pd.read_csv('http://p3.snf.ch/P3Export/P3_GrantExport.csv',sep = ';')\n",
    "#persons = pd.read_csv('http://p3.snf.ch/P3Export/P3_PersonExport.csv',sep = ';')"
   ]
  },
  {
   "cell_type": "markdown",
   "metadata": {},
   "source": [
    "We can have a brief look at both tables:"
   ]
  },
  {
   "cell_type": "code",
   "execution_count": 8,
   "metadata": {},
   "outputs": [
    {
     "data": {
      "text/html": [
       "<div>\n",
       "<style scoped>\n",
       "    .dataframe tbody tr th:only-of-type {\n",
       "        vertical-align: middle;\n",
       "    }\n",
       "\n",
       "    .dataframe tbody tr th {\n",
       "        vertical-align: top;\n",
       "    }\n",
       "\n",
       "    .dataframe thead th {\n",
       "        text-align: right;\n",
       "    }\n",
       "</style>\n",
       "<table border=\"1\" class=\"dataframe\">\n",
       "  <thead>\n",
       "    <tr style=\"text-align: right;\">\n",
       "      <th></th>\n",
       "      <th>Project Number</th>\n",
       "      <th>Project Number String</th>\n",
       "      <th>Project Title</th>\n",
       "      <th>Project Title English</th>\n",
       "      <th>Responsible Applicant</th>\n",
       "      <th>Funding Instrument</th>\n",
       "      <th>Funding Instrument Hierarchy</th>\n",
       "      <th>Institution</th>\n",
       "      <th>Institution Country</th>\n",
       "      <th>University</th>\n",
       "      <th>Discipline Number</th>\n",
       "      <th>Discipline Name</th>\n",
       "      <th>Discipline Name Hierarchy</th>\n",
       "      <th>All disciplines</th>\n",
       "      <th>Start Date</th>\n",
       "      <th>End Date</th>\n",
       "      <th>Approved Amount</th>\n",
       "      <th>Keywords</th>\n",
       "    </tr>\n",
       "  </thead>\n",
       "  <tbody>\n",
       "    <tr>\n",
       "      <th>0</th>\n",
       "      <td>1</td>\n",
       "      <td>1000-000001</td>\n",
       "      <td>Schlussband (Bd. VI) der Jacob Burckhardt-Biog...</td>\n",
       "      <td>NaN</td>\n",
       "      <td>Kaegi Werner</td>\n",
       "      <td>Project funding (Div. I-III)</td>\n",
       "      <td>Project funding</td>\n",
       "      <td>NaN</td>\n",
       "      <td>NaN</td>\n",
       "      <td>Unassignable - NA</td>\n",
       "      <td>10302</td>\n",
       "      <td>Swiss history</td>\n",
       "      <td>Humanities and Social Sciences;Theology &amp; reli...</td>\n",
       "      <td>10302</td>\n",
       "      <td>01.10.1975</td>\n",
       "      <td>30.09.1976</td>\n",
       "      <td>11619.00</td>\n",
       "      <td>NaN</td>\n",
       "    </tr>\n",
       "    <tr>\n",
       "      <th>1</th>\n",
       "      <td>4</td>\n",
       "      <td>1000-000004</td>\n",
       "      <td>Batterie de tests à l'usage des enseignants po...</td>\n",
       "      <td>NaN</td>\n",
       "      <td>Massarenti Léonard</td>\n",
       "      <td>Project funding (Div. I-III)</td>\n",
       "      <td>Project funding</td>\n",
       "      <td>Faculté de Psychologie et des Sciences de l'Ed...</td>\n",
       "      <td>Switzerland</td>\n",
       "      <td>University of Geneva - GE</td>\n",
       "      <td>10104</td>\n",
       "      <td>Educational science and Pedagogy</td>\n",
       "      <td>Humanities and Social Sciences;Psychology, edu...</td>\n",
       "      <td>10104</td>\n",
       "      <td>01.10.1975</td>\n",
       "      <td>30.09.1976</td>\n",
       "      <td>41022.00</td>\n",
       "      <td>NaN</td>\n",
       "    </tr>\n",
       "    <tr>\n",
       "      <th>2</th>\n",
       "      <td>5</td>\n",
       "      <td>1000-000005</td>\n",
       "      <td>Kritische Erstausgabe der 'Evidentiae contra D...</td>\n",
       "      <td>NaN</td>\n",
       "      <td>Kommission für das Corpus philosophorum medii ...</td>\n",
       "      <td>Project funding (Div. I-III)</td>\n",
       "      <td>Project funding</td>\n",
       "      <td>Kommission für das Corpus philosophorum medii ...</td>\n",
       "      <td>Switzerland</td>\n",
       "      <td>Non-profit organisations (libraries, museums, ...</td>\n",
       "      <td>10101</td>\n",
       "      <td>Philosophy</td>\n",
       "      <td>Humanities and Social Sciences;Linguistics and...</td>\n",
       "      <td>10101</td>\n",
       "      <td>01.03.1976</td>\n",
       "      <td>28.02.1985</td>\n",
       "      <td>79732.00</td>\n",
       "      <td>NaN</td>\n",
       "    </tr>\n",
       "    <tr>\n",
       "      <th>3</th>\n",
       "      <td>6</td>\n",
       "      <td>1000-000006</td>\n",
       "      <td>Katalog der datierten Handschriften in der Sch...</td>\n",
       "      <td>NaN</td>\n",
       "      <td>Burckhardt Max</td>\n",
       "      <td>Project funding (Div. I-III)</td>\n",
       "      <td>Project funding</td>\n",
       "      <td>Abteilung Handschriften und Alte Drucke Univer...</td>\n",
       "      <td>Switzerland</td>\n",
       "      <td>University of Basel - BS</td>\n",
       "      <td>10302</td>\n",
       "      <td>Swiss history</td>\n",
       "      <td>Humanities and Social Sciences;Theology &amp; reli...</td>\n",
       "      <td>10302</td>\n",
       "      <td>01.10.1975</td>\n",
       "      <td>30.09.1976</td>\n",
       "      <td>52627.00</td>\n",
       "      <td>NaN</td>\n",
       "    </tr>\n",
       "    <tr>\n",
       "      <th>4</th>\n",
       "      <td>7</td>\n",
       "      <td>1000-000007</td>\n",
       "      <td>Wissenschaftliche Mitarbeit am Thesaurus Lingu...</td>\n",
       "      <td>NaN</td>\n",
       "      <td>Schweiz. Thesauruskommission</td>\n",
       "      <td>Project funding (Div. I-III)</td>\n",
       "      <td>Project funding</td>\n",
       "      <td>Schweiz. Thesauruskommission</td>\n",
       "      <td>Switzerland</td>\n",
       "      <td>Non-profit organisations (libraries, museums, ...</td>\n",
       "      <td>10303</td>\n",
       "      <td>Ancient history and Classical studies</td>\n",
       "      <td>Humanities and Social Sciences;Theology &amp; reli...</td>\n",
       "      <td>10303</td>\n",
       "      <td>01.01.1976</td>\n",
       "      <td>30.04.1978</td>\n",
       "      <td>120042.00</td>\n",
       "      <td>NaN</td>\n",
       "    </tr>\n",
       "  </tbody>\n",
       "</table>\n",
       "</div>"
      ],
      "text/plain": [
       "   Project Number Project Number String  \\\n",
       "0               1           1000-000001   \n",
       "1               4           1000-000004   \n",
       "2               5           1000-000005   \n",
       "3               6           1000-000006   \n",
       "4               7           1000-000007   \n",
       "\n",
       "                                       Project Title Project Title English  \\\n",
       "0  Schlussband (Bd. VI) der Jacob Burckhardt-Biog...                   NaN   \n",
       "1  Batterie de tests à l'usage des enseignants po...                   NaN   \n",
       "2  Kritische Erstausgabe der 'Evidentiae contra D...                   NaN   \n",
       "3  Katalog der datierten Handschriften in der Sch...                   NaN   \n",
       "4  Wissenschaftliche Mitarbeit am Thesaurus Lingu...                   NaN   \n",
       "\n",
       "                               Responsible Applicant  \\\n",
       "0                                       Kaegi Werner   \n",
       "1                                 Massarenti Léonard   \n",
       "2  Kommission für das Corpus philosophorum medii ...   \n",
       "3                                     Burckhardt Max   \n",
       "4                       Schweiz. Thesauruskommission   \n",
       "\n",
       "             Funding Instrument Funding Instrument Hierarchy  \\\n",
       "0  Project funding (Div. I-III)              Project funding   \n",
       "1  Project funding (Div. I-III)              Project funding   \n",
       "2  Project funding (Div. I-III)              Project funding   \n",
       "3  Project funding (Div. I-III)              Project funding   \n",
       "4  Project funding (Div. I-III)              Project funding   \n",
       "\n",
       "                                         Institution Institution Country  \\\n",
       "0                                                NaN                 NaN   \n",
       "1  Faculté de Psychologie et des Sciences de l'Ed...         Switzerland   \n",
       "2  Kommission für das Corpus philosophorum medii ...         Switzerland   \n",
       "3  Abteilung Handschriften und Alte Drucke Univer...         Switzerland   \n",
       "4                       Schweiz. Thesauruskommission         Switzerland   \n",
       "\n",
       "                                          University  Discipline Number  \\\n",
       "0                                  Unassignable - NA              10302   \n",
       "1                          University of Geneva - GE              10104   \n",
       "2  Non-profit organisations (libraries, museums, ...              10101   \n",
       "3                           University of Basel - BS              10302   \n",
       "4  Non-profit organisations (libraries, museums, ...              10303   \n",
       "\n",
       "                         Discipline Name  \\\n",
       "0                          Swiss history   \n",
       "1       Educational science and Pedagogy   \n",
       "2                             Philosophy   \n",
       "3                          Swiss history   \n",
       "4  Ancient history and Classical studies   \n",
       "\n",
       "                           Discipline Name Hierarchy All disciplines  \\\n",
       "0  Humanities and Social Sciences;Theology & reli...           10302   \n",
       "1  Humanities and Social Sciences;Psychology, edu...           10104   \n",
       "2  Humanities and Social Sciences;Linguistics and...           10101   \n",
       "3  Humanities and Social Sciences;Theology & reli...           10302   \n",
       "4  Humanities and Social Sciences;Theology & reli...           10303   \n",
       "\n",
       "   Start Date    End Date Approved Amount Keywords  \n",
       "0  01.10.1975  30.09.1976        11619.00      NaN  \n",
       "1  01.10.1975  30.09.1976        41022.00      NaN  \n",
       "2  01.03.1976  28.02.1985        79732.00      NaN  \n",
       "3  01.10.1975  30.09.1976        52627.00      NaN  \n",
       "4  01.01.1976  30.04.1978       120042.00      NaN  "
      ]
     },
     "execution_count": 8,
     "metadata": {},
     "output_type": "execute_result"
    }
   ],
   "source": [
    "projects.head(5)"
   ]
  },
  {
   "cell_type": "code",
   "execution_count": 9,
   "metadata": {},
   "outputs": [
    {
     "data": {
      "text/html": [
       "<div>\n",
       "<style scoped>\n",
       "    .dataframe tbody tr th:only-of-type {\n",
       "        vertical-align: middle;\n",
       "    }\n",
       "\n",
       "    .dataframe tbody tr th {\n",
       "        vertical-align: top;\n",
       "    }\n",
       "\n",
       "    .dataframe thead th {\n",
       "        text-align: right;\n",
       "    }\n",
       "</style>\n",
       "<table border=\"1\" class=\"dataframe\">\n",
       "  <thead>\n",
       "    <tr style=\"text-align: right;\">\n",
       "      <th></th>\n",
       "      <th>Last Name</th>\n",
       "      <th>First Name</th>\n",
       "      <th>Gender</th>\n",
       "      <th>Institute Name</th>\n",
       "      <th>Institute Place</th>\n",
       "      <th>Person ID SNSF</th>\n",
       "      <th>OCRID</th>\n",
       "      <th>Projects as responsible Applicant</th>\n",
       "      <th>Projects as Applicant</th>\n",
       "      <th>Projects as Partner</th>\n",
       "      <th>Projects as Practice Partner</th>\n",
       "      <th>Projects as Employee</th>\n",
       "      <th>Projects as Contact Person</th>\n",
       "    </tr>\n",
       "  </thead>\n",
       "  <tbody>\n",
       "    <tr>\n",
       "      <th>0</th>\n",
       "      <td>a Marca</td>\n",
       "      <td>Davide</td>\n",
       "      <td>male</td>\n",
       "      <td>NaN</td>\n",
       "      <td>NaN</td>\n",
       "      <td>53856</td>\n",
       "      <td>NaN</td>\n",
       "      <td>NaN</td>\n",
       "      <td>NaN</td>\n",
       "      <td>NaN</td>\n",
       "      <td>NaN</td>\n",
       "      <td>36549</td>\n",
       "      <td>NaN</td>\n",
       "    </tr>\n",
       "    <tr>\n",
       "      <th>1</th>\n",
       "      <td>a Marca</td>\n",
       "      <td>Andrea</td>\n",
       "      <td>male</td>\n",
       "      <td>NaN</td>\n",
       "      <td>NaN</td>\n",
       "      <td>132628</td>\n",
       "      <td>NaN</td>\n",
       "      <td>67368</td>\n",
       "      <td>NaN</td>\n",
       "      <td>NaN</td>\n",
       "      <td>NaN</td>\n",
       "      <td>NaN</td>\n",
       "      <td>NaN</td>\n",
       "    </tr>\n",
       "    <tr>\n",
       "      <th>2</th>\n",
       "      <td>A. Jafari</td>\n",
       "      <td>Golnaz</td>\n",
       "      <td>female</td>\n",
       "      <td>Universität Luzern</td>\n",
       "      <td>Luzern</td>\n",
       "      <td>747886</td>\n",
       "      <td>NaN</td>\n",
       "      <td>191432</td>\n",
       "      <td>NaN</td>\n",
       "      <td>NaN</td>\n",
       "      <td>NaN</td>\n",
       "      <td>NaN</td>\n",
       "      <td>NaN</td>\n",
       "    </tr>\n",
       "    <tr>\n",
       "      <th>3</th>\n",
       "      <td>Aaberg</td>\n",
       "      <td>Johan</td>\n",
       "      <td>male</td>\n",
       "      <td>NaN</td>\n",
       "      <td>NaN</td>\n",
       "      <td>575257</td>\n",
       "      <td>NaN</td>\n",
       "      <td>NaN</td>\n",
       "      <td>NaN</td>\n",
       "      <td>NaN</td>\n",
       "      <td>NaN</td>\n",
       "      <td>119868</td>\n",
       "      <td>NaN</td>\n",
       "    </tr>\n",
       "    <tr>\n",
       "      <th>4</th>\n",
       "      <td>Aahman</td>\n",
       "      <td>Josefin</td>\n",
       "      <td>female</td>\n",
       "      <td>NaN</td>\n",
       "      <td>NaN</td>\n",
       "      <td>629557</td>\n",
       "      <td>NaN</td>\n",
       "      <td>NaN</td>\n",
       "      <td>NaN</td>\n",
       "      <td>NaN</td>\n",
       "      <td>NaN</td>\n",
       "      <td>141014</td>\n",
       "      <td>NaN</td>\n",
       "    </tr>\n",
       "  </tbody>\n",
       "</table>\n",
       "</div>"
      ],
      "text/plain": [
       "   Last Name First Name  Gender      Institute Name Institute Place  \\\n",
       "0    a Marca     Davide    male                 NaN             NaN   \n",
       "1    a Marca     Andrea    male                 NaN             NaN   \n",
       "2  A. Jafari     Golnaz  female  Universität Luzern          Luzern   \n",
       "3     Aaberg      Johan    male                 NaN             NaN   \n",
       "4     Aahman    Josefin  female                 NaN             NaN   \n",
       "\n",
       "   Person ID SNSF OCRID Projects as responsible Applicant  \\\n",
       "0           53856   NaN                               NaN   \n",
       "1          132628   NaN                             67368   \n",
       "2          747886   NaN                            191432   \n",
       "3          575257   NaN                               NaN   \n",
       "4          629557   NaN                               NaN   \n",
       "\n",
       "  Projects as Applicant Projects as Partner Projects as Practice Partner  \\\n",
       "0                   NaN                 NaN                          NaN   \n",
       "1                   NaN                 NaN                          NaN   \n",
       "2                   NaN                 NaN                          NaN   \n",
       "3                   NaN                 NaN                          NaN   \n",
       "4                   NaN                 NaN                          NaN   \n",
       "\n",
       "  Projects as Employee Projects as Contact Person  \n",
       "0                36549                        NaN  \n",
       "1                  NaN                        NaN  \n",
       "2                  NaN                        NaN  \n",
       "3               119868                        NaN  \n",
       "4               141014                        NaN  "
      ]
     },
     "execution_count": 9,
     "metadata": {},
     "output_type": "execute_result"
    }
   ],
   "source": [
    "persons.head(5)"
   ]
  },
  {
   "cell_type": "markdown",
   "metadata": {},
   "source": [
    "We see that the ```persons``` table gives information such as the role of a person in various projects  (applicant, employee etc.), her/his gender etc. The *project* table on the other side gives information such as the period of a grant, how much money was awarded etc.\n",
    "\n",
    "What if we now wish to know for example:\n",
    "- How much money is awarded on average depending on gender?\n",
    "- How long does it typically take for a researcher to go from employee to applicant status on a grant?\n",
    "\n",
    "We need a way to *link* the two tables, i.e. create a large table where *each row* corresponds to a single *observation* containing information from the two tables such as: applicant, gender, awarded funds, dates etc. We will now go through all necessary steps to achieve that goal."
   ]
  },
  {
   "cell_type": "markdown",
   "metadata": {},
   "source": [
    "## 12.2 Merging tables\n",
    "\n",
    "If each row of the persons table contained a single observation with a single person and a single project (the same person would appear of course multiple times), we could just *join* the two tables based e.g. on the project ID. Unfortunately, in the persons table, each line corresponds to a *single researcher* with all projects IDs lumped together in a list. For example:"
   ]
  },
  {
   "cell_type": "code",
   "execution_count": 12,
   "metadata": {},
   "outputs": [
    {
     "data": {
      "text/plain": [
       "Last Name                                                                    Bodenmann\n",
       "First Name                                                                         Guy\n",
       "Gender                                                                            male\n",
       "Institute Name                       Lehrstuhl für Klinische Psychologie Kinder/Jug...\n",
       "Institute Place                                                                 Zürich\n",
       "Person ID SNSF                                                                   47670\n",
       "OCRID                                                              0000-0003-0964-6409\n",
       "Projects as responsible Applicant    46820;56660;62901;109547;115948;128960;129627;...\n",
       "Projects as Applicant                                             112141;122090;166348\n",
       "Projects as Partner                                                                NaN\n",
       "Projects as Practice Partner                                                       NaN\n",
       "Projects as Employee                                                             62901\n",
       "Projects as Contact Person                                                         NaN\n",
       "Name: 10041, dtype: object"
      ]
     },
     "execution_count": 12,
     "metadata": {},
     "output_type": "execute_result"
    }
   ],
   "source": [
    "persons.iloc[10041]"
   ]
  },
  {
   "cell_type": "code",
   "execution_count": 13,
   "metadata": {},
   "outputs": [
    {
     "data": {
      "text/plain": [
       "'46820;56660;62901;109547;115948;128960;129627;129699;133004;146775;147634;173270'"
      ]
     },
     "execution_count": 13,
     "metadata": {},
     "output_type": "execute_result"
    }
   ],
   "source": [
    "persons.iloc[10041]['Projects as responsible Applicant']"
   ]
  },
  {
   "cell_type": "markdown",
   "metadata": {},
   "source": [
    "Therefore the first thing we need to do is to split those strings into actual lists. We can do that by using classic Python string splitting. We simply ```apply``` that function to the relevant columns. We need to take care of rows containing NaNs on which we cannot use ```split()```. We create two series, one for applicants, one for employees:"
   ]
  },
  {
   "cell_type": "code",
   "execution_count": 14,
   "metadata": {},
   "outputs": [],
   "source": [
    "projID_a = persons['Projects as responsible Applicant'].apply(lambda x: x.split(';') if not pd.isna(x) else np.nan)\n",
    "projID_e = persons['Projects as Employee'].apply(lambda x: x.split(';') if not pd.isna(x) else np.nan)"
   ]
  },
  {
   "cell_type": "code",
   "execution_count": 15,
   "metadata": {},
   "outputs": [
    {
     "data": {
      "text/plain": [
       "0                                             NaN\n",
       "1                                         [67368]\n",
       "2                                        [191432]\n",
       "3                                             NaN\n",
       "4                                             NaN\n",
       "                           ...                   \n",
       "110811    [52821, 143769, 147153, 165510, 183584]\n",
       "110812                                        NaN\n",
       "110813                                        NaN\n",
       "110814                                        NaN\n",
       "110815                                        NaN\n",
       "Name: Projects as responsible Applicant, Length: 110816, dtype: object"
      ]
     },
     "execution_count": 15,
     "metadata": {},
     "output_type": "execute_result"
    }
   ],
   "source": [
    "projID_a"
   ]
  },
  {
   "cell_type": "code",
   "execution_count": 17,
   "metadata": {},
   "outputs": [
    {
     "data": {
      "text/plain": [
       "['46820',\n",
       " '56660',\n",
       " '62901',\n",
       " '109547',\n",
       " '115948',\n",
       " '128960',\n",
       " '129627',\n",
       " '129699',\n",
       " '133004',\n",
       " '146775',\n",
       " '147634',\n",
       " '173270']"
      ]
     },
     "execution_count": 17,
     "metadata": {},
     "output_type": "execute_result"
    }
   ],
   "source": [
    "projID_a[10041]"
   ]
  },
  {
   "cell_type": "markdown",
   "metadata": {},
   "source": [
    "Now, to avoid problems later we'll only keep rows that are not NaNs. We first add the two series to the dataframe and then remove NaNs:"
   ]
  },
  {
   "cell_type": "code",
   "execution_count": 18,
   "metadata": {},
   "outputs": [
    {
     "data": {
      "text/plain": [
       "0          True\n",
       "1         False\n",
       "2         False\n",
       "3          True\n",
       "4          True\n",
       "          ...  \n",
       "110811    False\n",
       "110812     True\n",
       "110813     True\n",
       "110814     True\n",
       "110815     True\n",
       "Name: Projects as responsible Applicant, Length: 110816, dtype: bool"
      ]
     },
     "execution_count": 18,
     "metadata": {},
     "output_type": "execute_result"
    }
   ],
   "source": [
    "pd.isna(projID_a)"
   ]
  },
  {
   "cell_type": "code",
   "execution_count": 19,
   "metadata": {},
   "outputs": [],
   "source": [
    "applicants = persons.copy()\n",
    "applicants['projID'] = projID_a\n",
    "applicants = applicants[~pd.isna(projID_a)]\n",
    "\n",
    "employees = persons.copy()\n",
    "employees['projID'] = projID_e\n",
    "employees = employees[~pd.isna(projID_e)]"
   ]
  },
  {
   "cell_type": "markdown",
   "metadata": {},
   "source": [
    "Now we want each of these projects to become a single line in the dataframe. Here we use a function that we haven't used before called ```explode``` which turns every element in a list into a row (a good illustration of the variety of available functions in Pandas):"
   ]
  },
  {
   "cell_type": "code",
   "execution_count": 20,
   "metadata": {},
   "outputs": [],
   "source": [
    "applicants = applicants.explode('projID')\n",
    "employees = employees.explode('projID')"
   ]
  },
  {
   "cell_type": "code",
   "execution_count": 21,
   "metadata": {},
   "outputs": [
    {
     "data": {
      "text/html": [
       "<div>\n",
       "<style scoped>\n",
       "    .dataframe tbody tr th:only-of-type {\n",
       "        vertical-align: middle;\n",
       "    }\n",
       "\n",
       "    .dataframe tbody tr th {\n",
       "        vertical-align: top;\n",
       "    }\n",
       "\n",
       "    .dataframe thead th {\n",
       "        text-align: right;\n",
       "    }\n",
       "</style>\n",
       "<table border=\"1\" class=\"dataframe\">\n",
       "  <thead>\n",
       "    <tr style=\"text-align: right;\">\n",
       "      <th></th>\n",
       "      <th>Last Name</th>\n",
       "      <th>First Name</th>\n",
       "      <th>Gender</th>\n",
       "      <th>Institute Name</th>\n",
       "      <th>Institute Place</th>\n",
       "      <th>Person ID SNSF</th>\n",
       "      <th>OCRID</th>\n",
       "      <th>Projects as responsible Applicant</th>\n",
       "      <th>Projects as Applicant</th>\n",
       "      <th>Projects as Partner</th>\n",
       "      <th>Projects as Practice Partner</th>\n",
       "      <th>Projects as Employee</th>\n",
       "      <th>Projects as Contact Person</th>\n",
       "      <th>projID</th>\n",
       "    </tr>\n",
       "  </thead>\n",
       "  <tbody>\n",
       "    <tr>\n",
       "      <th>1</th>\n",
       "      <td>a Marca</td>\n",
       "      <td>Andrea</td>\n",
       "      <td>male</td>\n",
       "      <td>NaN</td>\n",
       "      <td>NaN</td>\n",
       "      <td>132628</td>\n",
       "      <td>NaN</td>\n",
       "      <td>67368</td>\n",
       "      <td>NaN</td>\n",
       "      <td>NaN</td>\n",
       "      <td>NaN</td>\n",
       "      <td>NaN</td>\n",
       "      <td>NaN</td>\n",
       "      <td>67368</td>\n",
       "    </tr>\n",
       "    <tr>\n",
       "      <th>2</th>\n",
       "      <td>A. Jafari</td>\n",
       "      <td>Golnaz</td>\n",
       "      <td>female</td>\n",
       "      <td>Universität Luzern</td>\n",
       "      <td>Luzern</td>\n",
       "      <td>747886</td>\n",
       "      <td>NaN</td>\n",
       "      <td>191432</td>\n",
       "      <td>NaN</td>\n",
       "      <td>NaN</td>\n",
       "      <td>NaN</td>\n",
       "      <td>NaN</td>\n",
       "      <td>NaN</td>\n",
       "      <td>191432</td>\n",
       "    </tr>\n",
       "    <tr>\n",
       "      <th>7</th>\n",
       "      <td>Aapro</td>\n",
       "      <td>Matti S.</td>\n",
       "      <td>male</td>\n",
       "      <td>Clinique de Genolier F.M.H. Oncologie-Hématolo...</td>\n",
       "      <td>Genolier</td>\n",
       "      <td>3268</td>\n",
       "      <td>NaN</td>\n",
       "      <td>8532;9513</td>\n",
       "      <td>8155</td>\n",
       "      <td>NaN</td>\n",
       "      <td>NaN</td>\n",
       "      <td>NaN</td>\n",
       "      <td>NaN</td>\n",
       "      <td>8532</td>\n",
       "    </tr>\n",
       "    <tr>\n",
       "      <th>7</th>\n",
       "      <td>Aapro</td>\n",
       "      <td>Matti S.</td>\n",
       "      <td>male</td>\n",
       "      <td>Clinique de Genolier F.M.H. Oncologie-Hématolo...</td>\n",
       "      <td>Genolier</td>\n",
       "      <td>3268</td>\n",
       "      <td>NaN</td>\n",
       "      <td>8532;9513</td>\n",
       "      <td>8155</td>\n",
       "      <td>NaN</td>\n",
       "      <td>NaN</td>\n",
       "      <td>NaN</td>\n",
       "      <td>NaN</td>\n",
       "      <td>9513</td>\n",
       "    </tr>\n",
       "    <tr>\n",
       "      <th>11</th>\n",
       "      <td>Aas</td>\n",
       "      <td>Gregor</td>\n",
       "      <td>male</td>\n",
       "      <td>Lehrstuhl für Pflanzenphysiologie Universität ...</td>\n",
       "      <td>Bayreuth</td>\n",
       "      <td>36412</td>\n",
       "      <td>NaN</td>\n",
       "      <td>52037</td>\n",
       "      <td>NaN</td>\n",
       "      <td>NaN</td>\n",
       "      <td>NaN</td>\n",
       "      <td>NaN</td>\n",
       "      <td>NaN</td>\n",
       "      <td>52037</td>\n",
       "    </tr>\n",
       "  </tbody>\n",
       "</table>\n",
       "</div>"
      ],
      "text/plain": [
       "    Last Name First Name  Gender  \\\n",
       "1     a Marca     Andrea    male   \n",
       "2   A. Jafari     Golnaz  female   \n",
       "7       Aapro   Matti S.    male   \n",
       "7       Aapro   Matti S.    male   \n",
       "11        Aas     Gregor    male   \n",
       "\n",
       "                                       Institute Name Institute Place  \\\n",
       "1                                                 NaN             NaN   \n",
       "2                                  Universität Luzern          Luzern   \n",
       "7   Clinique de Genolier F.M.H. Oncologie-Hématolo...        Genolier   \n",
       "7   Clinique de Genolier F.M.H. Oncologie-Hématolo...        Genolier   \n",
       "11  Lehrstuhl für Pflanzenphysiologie Universität ...        Bayreuth   \n",
       "\n",
       "    Person ID SNSF OCRID Projects as responsible Applicant  \\\n",
       "1           132628   NaN                             67368   \n",
       "2           747886   NaN                            191432   \n",
       "7             3268   NaN                         8532;9513   \n",
       "7             3268   NaN                         8532;9513   \n",
       "11           36412   NaN                             52037   \n",
       "\n",
       "   Projects as Applicant Projects as Partner Projects as Practice Partner  \\\n",
       "1                    NaN                 NaN                          NaN   \n",
       "2                    NaN                 NaN                          NaN   \n",
       "7                   8155                 NaN                          NaN   \n",
       "7                   8155                 NaN                          NaN   \n",
       "11                   NaN                 NaN                          NaN   \n",
       "\n",
       "   Projects as Employee Projects as Contact Person  projID  \n",
       "1                   NaN                        NaN   67368  \n",
       "2                   NaN                        NaN  191432  \n",
       "7                   NaN                        NaN    8532  \n",
       "7                   NaN                        NaN    9513  \n",
       "11                  NaN                        NaN   52037  "
      ]
     },
     "execution_count": 21,
     "metadata": {},
     "output_type": "execute_result"
    }
   ],
   "source": [
    "applicants.head(5)"
   ]
  },
  {
   "cell_type": "markdown",
   "metadata": {},
   "source": [
    "So now we have one large table, where each row corresponds to a *single* applicant and a *single* project. We can finally do our merging operation where we combined information on persons and projects. We will do two such operations: one for applicants using the ```projID_a``` column for merging and one using the ```projID_e``` column. We have one last problem to fix:"
   ]
  },
  {
   "cell_type": "code",
   "execution_count": 22,
   "metadata": {},
   "outputs": [
    {
     "data": {
      "text/plain": [
       "'67368'"
      ]
     },
     "execution_count": 22,
     "metadata": {},
     "output_type": "execute_result"
    }
   ],
   "source": [
    "applicants.loc[1].projID"
   ]
  },
  {
   "cell_type": "code",
   "execution_count": 23,
   "metadata": {},
   "outputs": [
    {
     "data": {
      "text/plain": [
       "4"
      ]
     },
     "execution_count": 23,
     "metadata": {},
     "output_type": "execute_result"
    }
   ],
   "source": [
    "projects.loc[1]['Project Number']"
   ]
  },
  {
   "cell_type": "markdown",
   "metadata": {},
   "source": [
    "We need the project ID in the persons table to be a *number* and not a *string*. We can try to convert but get an error:"
   ]
  },
  {
   "cell_type": "code",
   "execution_count": 24,
   "metadata": {},
   "outputs": [
    {
     "ename": "ValueError",
     "evalue": "invalid literal for int() with base 10: ''",
     "output_type": "error",
     "traceback": [
      "\u001b[0;31m---------------------------------------------------------------------------\u001b[0m",
      "\u001b[0;31mValueError\u001b[0m                                Traceback (most recent call last)",
      "\u001b[0;32m<ipython-input-24-fca9460da04e>\u001b[0m in \u001b[0;36m<module>\u001b[0;34m\u001b[0m\n\u001b[0;32m----> 1\u001b[0;31m \u001b[0mapplicants\u001b[0m\u001b[0;34m.\u001b[0m\u001b[0mprojID\u001b[0m \u001b[0;34m=\u001b[0m \u001b[0mapplicants\u001b[0m\u001b[0;34m.\u001b[0m\u001b[0mprojID\u001b[0m\u001b[0;34m.\u001b[0m\u001b[0mastype\u001b[0m\u001b[0;34m(\u001b[0m\u001b[0mint\u001b[0m\u001b[0;34m)\u001b[0m\u001b[0;34m\u001b[0m\u001b[0;34m\u001b[0m\u001b[0m\n\u001b[0m\u001b[1;32m      2\u001b[0m \u001b[0memployees\u001b[0m\u001b[0;34m.\u001b[0m\u001b[0mprojID\u001b[0m \u001b[0;34m=\u001b[0m \u001b[0memployees\u001b[0m\u001b[0;34m.\u001b[0m\u001b[0mprojID\u001b[0m\u001b[0;34m.\u001b[0m\u001b[0mastype\u001b[0m\u001b[0;34m(\u001b[0m\u001b[0mint\u001b[0m\u001b[0;34m)\u001b[0m\u001b[0;34m\u001b[0m\u001b[0;34m\u001b[0m\u001b[0m\n",
      "\u001b[0;32m~/miniconda3/envs/danalytics/lib/python3.8/site-packages/pandas/core/generic.py\u001b[0m in \u001b[0;36mastype\u001b[0;34m(self, dtype, copy, errors)\u001b[0m\n\u001b[1;32m   5696\u001b[0m         \u001b[0;32melse\u001b[0m\u001b[0;34m:\u001b[0m\u001b[0;34m\u001b[0m\u001b[0;34m\u001b[0m\u001b[0m\n\u001b[1;32m   5697\u001b[0m             \u001b[0;31m# else, only a single dtype is given\u001b[0m\u001b[0;34m\u001b[0m\u001b[0;34m\u001b[0m\u001b[0;34m\u001b[0m\u001b[0m\n\u001b[0;32m-> 5698\u001b[0;31m             \u001b[0mnew_data\u001b[0m \u001b[0;34m=\u001b[0m \u001b[0mself\u001b[0m\u001b[0;34m.\u001b[0m\u001b[0m_data\u001b[0m\u001b[0;34m.\u001b[0m\u001b[0mastype\u001b[0m\u001b[0;34m(\u001b[0m\u001b[0mdtype\u001b[0m\u001b[0;34m=\u001b[0m\u001b[0mdtype\u001b[0m\u001b[0;34m,\u001b[0m \u001b[0mcopy\u001b[0m\u001b[0;34m=\u001b[0m\u001b[0mcopy\u001b[0m\u001b[0;34m,\u001b[0m \u001b[0merrors\u001b[0m\u001b[0;34m=\u001b[0m\u001b[0merrors\u001b[0m\u001b[0;34m)\u001b[0m\u001b[0;34m\u001b[0m\u001b[0;34m\u001b[0m\u001b[0m\n\u001b[0m\u001b[1;32m   5699\u001b[0m             \u001b[0;32mreturn\u001b[0m \u001b[0mself\u001b[0m\u001b[0;34m.\u001b[0m\u001b[0m_constructor\u001b[0m\u001b[0;34m(\u001b[0m\u001b[0mnew_data\u001b[0m\u001b[0;34m)\u001b[0m\u001b[0;34m.\u001b[0m\u001b[0m__finalize__\u001b[0m\u001b[0;34m(\u001b[0m\u001b[0mself\u001b[0m\u001b[0;34m)\u001b[0m\u001b[0;34m\u001b[0m\u001b[0;34m\u001b[0m\u001b[0m\n\u001b[1;32m   5700\u001b[0m \u001b[0;34m\u001b[0m\u001b[0m\n",
      "\u001b[0;32m~/miniconda3/envs/danalytics/lib/python3.8/site-packages/pandas/core/internals/managers.py\u001b[0m in \u001b[0;36mastype\u001b[0;34m(self, dtype, copy, errors)\u001b[0m\n\u001b[1;32m    580\u001b[0m \u001b[0;34m\u001b[0m\u001b[0m\n\u001b[1;32m    581\u001b[0m     \u001b[0;32mdef\u001b[0m \u001b[0mastype\u001b[0m\u001b[0;34m(\u001b[0m\u001b[0mself\u001b[0m\u001b[0;34m,\u001b[0m \u001b[0mdtype\u001b[0m\u001b[0;34m,\u001b[0m \u001b[0mcopy\u001b[0m\u001b[0;34m:\u001b[0m \u001b[0mbool\u001b[0m \u001b[0;34m=\u001b[0m \u001b[0;32mFalse\u001b[0m\u001b[0;34m,\u001b[0m \u001b[0merrors\u001b[0m\u001b[0;34m:\u001b[0m \u001b[0mstr\u001b[0m \u001b[0;34m=\u001b[0m \u001b[0;34m\"raise\"\u001b[0m\u001b[0;34m)\u001b[0m\u001b[0;34m:\u001b[0m\u001b[0;34m\u001b[0m\u001b[0;34m\u001b[0m\u001b[0m\n\u001b[0;32m--> 582\u001b[0;31m         \u001b[0;32mreturn\u001b[0m \u001b[0mself\u001b[0m\u001b[0;34m.\u001b[0m\u001b[0mapply\u001b[0m\u001b[0;34m(\u001b[0m\u001b[0;34m\"astype\"\u001b[0m\u001b[0;34m,\u001b[0m \u001b[0mdtype\u001b[0m\u001b[0;34m=\u001b[0m\u001b[0mdtype\u001b[0m\u001b[0;34m,\u001b[0m \u001b[0mcopy\u001b[0m\u001b[0;34m=\u001b[0m\u001b[0mcopy\u001b[0m\u001b[0;34m,\u001b[0m \u001b[0merrors\u001b[0m\u001b[0;34m=\u001b[0m\u001b[0merrors\u001b[0m\u001b[0;34m)\u001b[0m\u001b[0;34m\u001b[0m\u001b[0;34m\u001b[0m\u001b[0m\n\u001b[0m\u001b[1;32m    583\u001b[0m \u001b[0;34m\u001b[0m\u001b[0m\n\u001b[1;32m    584\u001b[0m     \u001b[0;32mdef\u001b[0m \u001b[0mconvert\u001b[0m\u001b[0;34m(\u001b[0m\u001b[0mself\u001b[0m\u001b[0;34m,\u001b[0m \u001b[0;34m**\u001b[0m\u001b[0mkwargs\u001b[0m\u001b[0;34m)\u001b[0m\u001b[0;34m:\u001b[0m\u001b[0;34m\u001b[0m\u001b[0;34m\u001b[0m\u001b[0m\n",
      "\u001b[0;32m~/miniconda3/envs/danalytics/lib/python3.8/site-packages/pandas/core/internals/managers.py\u001b[0m in \u001b[0;36mapply\u001b[0;34m(self, f, filter, **kwargs)\u001b[0m\n\u001b[1;32m    440\u001b[0m                 \u001b[0mapplied\u001b[0m \u001b[0;34m=\u001b[0m \u001b[0mb\u001b[0m\u001b[0;34m.\u001b[0m\u001b[0mapply\u001b[0m\u001b[0;34m(\u001b[0m\u001b[0mf\u001b[0m\u001b[0;34m,\u001b[0m \u001b[0;34m**\u001b[0m\u001b[0mkwargs\u001b[0m\u001b[0;34m)\u001b[0m\u001b[0;34m\u001b[0m\u001b[0;34m\u001b[0m\u001b[0m\n\u001b[1;32m    441\u001b[0m             \u001b[0;32melse\u001b[0m\u001b[0;34m:\u001b[0m\u001b[0;34m\u001b[0m\u001b[0;34m\u001b[0m\u001b[0m\n\u001b[0;32m--> 442\u001b[0;31m                 \u001b[0mapplied\u001b[0m \u001b[0;34m=\u001b[0m \u001b[0mgetattr\u001b[0m\u001b[0;34m(\u001b[0m\u001b[0mb\u001b[0m\u001b[0;34m,\u001b[0m \u001b[0mf\u001b[0m\u001b[0;34m)\u001b[0m\u001b[0;34m(\u001b[0m\u001b[0;34m**\u001b[0m\u001b[0mkwargs\u001b[0m\u001b[0;34m)\u001b[0m\u001b[0;34m\u001b[0m\u001b[0;34m\u001b[0m\u001b[0m\n\u001b[0m\u001b[1;32m    443\u001b[0m             \u001b[0mresult_blocks\u001b[0m \u001b[0;34m=\u001b[0m \u001b[0m_extend_blocks\u001b[0m\u001b[0;34m(\u001b[0m\u001b[0mapplied\u001b[0m\u001b[0;34m,\u001b[0m \u001b[0mresult_blocks\u001b[0m\u001b[0;34m)\u001b[0m\u001b[0;34m\u001b[0m\u001b[0;34m\u001b[0m\u001b[0m\n\u001b[1;32m    444\u001b[0m \u001b[0;34m\u001b[0m\u001b[0m\n",
      "\u001b[0;32m~/miniconda3/envs/danalytics/lib/python3.8/site-packages/pandas/core/internals/blocks.py\u001b[0m in \u001b[0;36mastype\u001b[0;34m(self, dtype, copy, errors)\u001b[0m\n\u001b[1;32m    623\u001b[0m             \u001b[0mvals1d\u001b[0m \u001b[0;34m=\u001b[0m \u001b[0mvalues\u001b[0m\u001b[0;34m.\u001b[0m\u001b[0mravel\u001b[0m\u001b[0;34m(\u001b[0m\u001b[0;34m)\u001b[0m\u001b[0;34m\u001b[0m\u001b[0;34m\u001b[0m\u001b[0m\n\u001b[1;32m    624\u001b[0m             \u001b[0;32mtry\u001b[0m\u001b[0;34m:\u001b[0m\u001b[0;34m\u001b[0m\u001b[0;34m\u001b[0m\u001b[0m\n\u001b[0;32m--> 625\u001b[0;31m                 \u001b[0mvalues\u001b[0m \u001b[0;34m=\u001b[0m \u001b[0mastype_nansafe\u001b[0m\u001b[0;34m(\u001b[0m\u001b[0mvals1d\u001b[0m\u001b[0;34m,\u001b[0m \u001b[0mdtype\u001b[0m\u001b[0;34m,\u001b[0m \u001b[0mcopy\u001b[0m\u001b[0;34m=\u001b[0m\u001b[0;32mTrue\u001b[0m\u001b[0;34m)\u001b[0m\u001b[0;34m\u001b[0m\u001b[0;34m\u001b[0m\u001b[0m\n\u001b[0m\u001b[1;32m    626\u001b[0m             \u001b[0;32mexcept\u001b[0m \u001b[0;34m(\u001b[0m\u001b[0mValueError\u001b[0m\u001b[0;34m,\u001b[0m \u001b[0mTypeError\u001b[0m\u001b[0;34m)\u001b[0m\u001b[0;34m:\u001b[0m\u001b[0;34m\u001b[0m\u001b[0;34m\u001b[0m\u001b[0m\n\u001b[1;32m    627\u001b[0m                 \u001b[0;31m# e.g. astype_nansafe can fail on object-dtype of strings\u001b[0m\u001b[0;34m\u001b[0m\u001b[0;34m\u001b[0m\u001b[0;34m\u001b[0m\u001b[0m\n",
      "\u001b[0;32m~/miniconda3/envs/danalytics/lib/python3.8/site-packages/pandas/core/dtypes/cast.py\u001b[0m in \u001b[0;36mastype_nansafe\u001b[0;34m(arr, dtype, copy, skipna)\u001b[0m\n\u001b[1;32m    872\u001b[0m         \u001b[0;31m# work around NumPy brokenness, #1987\u001b[0m\u001b[0;34m\u001b[0m\u001b[0;34m\u001b[0m\u001b[0;34m\u001b[0m\u001b[0m\n\u001b[1;32m    873\u001b[0m         \u001b[0;32mif\u001b[0m \u001b[0mnp\u001b[0m\u001b[0;34m.\u001b[0m\u001b[0missubdtype\u001b[0m\u001b[0;34m(\u001b[0m\u001b[0mdtype\u001b[0m\u001b[0;34m.\u001b[0m\u001b[0mtype\u001b[0m\u001b[0;34m,\u001b[0m \u001b[0mnp\u001b[0m\u001b[0;34m.\u001b[0m\u001b[0minteger\u001b[0m\u001b[0;34m)\u001b[0m\u001b[0;34m:\u001b[0m\u001b[0;34m\u001b[0m\u001b[0;34m\u001b[0m\u001b[0m\n\u001b[0;32m--> 874\u001b[0;31m             \u001b[0;32mreturn\u001b[0m \u001b[0mlib\u001b[0m\u001b[0;34m.\u001b[0m\u001b[0mastype_intsafe\u001b[0m\u001b[0;34m(\u001b[0m\u001b[0marr\u001b[0m\u001b[0;34m.\u001b[0m\u001b[0mravel\u001b[0m\u001b[0;34m(\u001b[0m\u001b[0;34m)\u001b[0m\u001b[0;34m,\u001b[0m \u001b[0mdtype\u001b[0m\u001b[0;34m)\u001b[0m\u001b[0;34m.\u001b[0m\u001b[0mreshape\u001b[0m\u001b[0;34m(\u001b[0m\u001b[0marr\u001b[0m\u001b[0;34m.\u001b[0m\u001b[0mshape\u001b[0m\u001b[0;34m)\u001b[0m\u001b[0;34m\u001b[0m\u001b[0;34m\u001b[0m\u001b[0m\n\u001b[0m\u001b[1;32m    875\u001b[0m \u001b[0;34m\u001b[0m\u001b[0m\n\u001b[1;32m    876\u001b[0m         \u001b[0;31m# if we have a datetime/timedelta array of objects\u001b[0m\u001b[0;34m\u001b[0m\u001b[0;34m\u001b[0m\u001b[0;34m\u001b[0m\u001b[0m\n",
      "\u001b[0;32mpandas/_libs/lib.pyx\u001b[0m in \u001b[0;36mpandas._libs.lib.astype_intsafe\u001b[0;34m()\u001b[0m\n",
      "\u001b[0;31mValueError\u001b[0m: invalid literal for int() with base 10: ''"
     ]
    }
   ],
   "source": [
    "applicants.projID = applicants.projID.astype(int)\n",
    "employees.projID = employees.projID.astype(int)"
   ]
  },
  {
   "cell_type": "markdown",
   "metadata": {},
   "source": [
    "It looks like we have a row that doesn't conform to expectation and only contains ''. Let's try to figure out what happened. First we find the location with the issue:"
   ]
  },
  {
   "cell_type": "code",
   "execution_count": 25,
   "metadata": {},
   "outputs": [
    {
     "data": {
      "text/html": [
       "<div>\n",
       "<style scoped>\n",
       "    .dataframe tbody tr th:only-of-type {\n",
       "        vertical-align: middle;\n",
       "    }\n",
       "\n",
       "    .dataframe tbody tr th {\n",
       "        vertical-align: top;\n",
       "    }\n",
       "\n",
       "    .dataframe thead th {\n",
       "        text-align: right;\n",
       "    }\n",
       "</style>\n",
       "<table border=\"1\" class=\"dataframe\">\n",
       "  <thead>\n",
       "    <tr style=\"text-align: right;\">\n",
       "      <th></th>\n",
       "      <th>Last Name</th>\n",
       "      <th>First Name</th>\n",
       "      <th>Gender</th>\n",
       "      <th>Institute Name</th>\n",
       "      <th>Institute Place</th>\n",
       "      <th>Person ID SNSF</th>\n",
       "      <th>OCRID</th>\n",
       "      <th>Projects as responsible Applicant</th>\n",
       "      <th>Projects as Applicant</th>\n",
       "      <th>Projects as Partner</th>\n",
       "      <th>Projects as Practice Partner</th>\n",
       "      <th>Projects as Employee</th>\n",
       "      <th>Projects as Contact Person</th>\n",
       "      <th>projID</th>\n",
       "    </tr>\n",
       "  </thead>\n",
       "  <tbody>\n",
       "    <tr>\n",
       "      <th>50947</th>\n",
       "      <td>Kleinewefers</td>\n",
       "      <td>Henner</td>\n",
       "      <td>male</td>\n",
       "      <td>Séminaire de politique économique, d'économie ...</td>\n",
       "      <td>Fribourg</td>\n",
       "      <td>10661</td>\n",
       "      <td>NaN</td>\n",
       "      <td>8;</td>\n",
       "      <td>NaN</td>\n",
       "      <td>NaN</td>\n",
       "      <td>NaN</td>\n",
       "      <td>NaN</td>\n",
       "      <td>NaN</td>\n",
       "      <td></td>\n",
       "    </tr>\n",
       "    <tr>\n",
       "      <th>62384</th>\n",
       "      <td>Massarenti</td>\n",
       "      <td>Léonard</td>\n",
       "      <td>male</td>\n",
       "      <td>Faculté de Psychologie et des Sciences de l'Ed...</td>\n",
       "      <td>Genève 4</td>\n",
       "      <td>11138</td>\n",
       "      <td>NaN</td>\n",
       "      <td>4;</td>\n",
       "      <td>NaN</td>\n",
       "      <td>NaN</td>\n",
       "      <td>NaN</td>\n",
       "      <td>NaN</td>\n",
       "      <td>NaN</td>\n",
       "      <td></td>\n",
       "    </tr>\n",
       "  </tbody>\n",
       "</table>\n",
       "</div>"
      ],
      "text/plain": [
       "          Last Name First Name Gender  \\\n",
       "50947  Kleinewefers     Henner   male   \n",
       "62384    Massarenti    Léonard   male   \n",
       "\n",
       "                                          Institute Name Institute Place  \\\n",
       "50947  Séminaire de politique économique, d'économie ...        Fribourg   \n",
       "62384  Faculté de Psychologie et des Sciences de l'Ed...        Genève 4   \n",
       "\n",
       "       Person ID SNSF OCRID Projects as responsible Applicant  \\\n",
       "50947           10661   NaN                                8;   \n",
       "62384           11138   NaN                                4;   \n",
       "\n",
       "      Projects as Applicant Projects as Partner Projects as Practice Partner  \\\n",
       "50947                   NaN                 NaN                          NaN   \n",
       "62384                   NaN                 NaN                          NaN   \n",
       "\n",
       "      Projects as Employee Projects as Contact Person projID  \n",
       "50947                  NaN                        NaN         \n",
       "62384                  NaN                        NaN         "
      ]
     },
     "execution_count": 25,
     "metadata": {},
     "output_type": "execute_result"
    }
   ],
   "source": [
    "applicants[applicants.projID=='']"
   ]
  },
  {
   "cell_type": "markdown",
   "metadata": {},
   "source": [
    "Then we look in the original table:"
   ]
  },
  {
   "cell_type": "code",
   "execution_count": 26,
   "metadata": {},
   "outputs": [
    {
     "data": {
      "text/plain": [
       "Last Name                                                                 Kleinewefers\n",
       "First Name                                                                      Henner\n",
       "Gender                                                                            male\n",
       "Institute Name                       Séminaire de politique économique, d'économie ...\n",
       "Institute Place                                                               Fribourg\n",
       "Person ID SNSF                                                                   10661\n",
       "OCRID                                                                              NaN\n",
       "Projects as responsible Applicant                                                   8;\n",
       "Projects as Applicant                                                              NaN\n",
       "Projects as Partner                                                                NaN\n",
       "Projects as Practice Partner                                                       NaN\n",
       "Projects as Employee                                                               NaN\n",
       "Projects as Contact Person                                                         NaN\n",
       "Name: 50947, dtype: object"
      ]
     },
     "execution_count": 26,
     "metadata": {},
     "output_type": "execute_result"
    }
   ],
   "source": [
    "persons.loc[50947]"
   ]
  },
  {
   "cell_type": "markdown",
   "metadata": {},
   "source": [
    "Unfortunately, as is often the case, we have a misformatting in the original table. The project as applicant entry has a single number but still contains the ```;``` sign. Therefore when we split the text, we end up with ```['8','']```. Can we fix this? We can for example filter the table and remove rows where ```projID``` has length 0:"
   ]
  },
  {
   "cell_type": "code",
   "execution_count": 30,
   "metadata": {},
   "outputs": [],
   "source": [
    "applicants = applicants[applicants.projID.apply(lambda x: len(x) > 0)]\n",
    "employees = employees[employees.projID.apply(lambda x: len(x) > 0)]"
   ]
  },
  {
   "cell_type": "markdown",
   "metadata": {},
   "source": [
    "Now we can convert the ```projID``` column to integer:"
   ]
  },
  {
   "cell_type": "code",
   "execution_count": 31,
   "metadata": {},
   "outputs": [],
   "source": [
    "applicants.projID = applicants.projID.astype(int)\n",
    "employees.projID = employees.projID.astype(int)"
   ]
  },
  {
   "cell_type": "markdown",
   "metadata": {},
   "source": [
    "Finally we can use ```merge``` to combine both tables. We will combine the projects (on 'Project Number') and persons table (on 'projID_a' and 'projID_e'): "
   ]
  },
  {
   "cell_type": "code",
   "execution_count": 32,
   "metadata": {},
   "outputs": [],
   "source": [
    "merged_appl = pd.merge(applicants, projects, left_on='projID', right_on='Project Number')\n",
    "merged_empl = pd.merge(employees, projects, left_on='projID', right_on='Project Number')\n"
   ]
  },
  {
   "cell_type": "code",
   "execution_count": 33,
   "metadata": {},
   "outputs": [
    {
     "data": {
      "text/html": [
       "<div>\n",
       "<style scoped>\n",
       "    .dataframe tbody tr th:only-of-type {\n",
       "        vertical-align: middle;\n",
       "    }\n",
       "\n",
       "    .dataframe tbody tr th {\n",
       "        vertical-align: top;\n",
       "    }\n",
       "\n",
       "    .dataframe thead th {\n",
       "        text-align: right;\n",
       "    }\n",
       "</style>\n",
       "<table border=\"1\" class=\"dataframe\">\n",
       "  <thead>\n",
       "    <tr style=\"text-align: right;\">\n",
       "      <th></th>\n",
       "      <th>Last Name</th>\n",
       "      <th>First Name</th>\n",
       "      <th>Gender</th>\n",
       "      <th>Institute Name</th>\n",
       "      <th>Institute Place</th>\n",
       "      <th>Person ID SNSF</th>\n",
       "      <th>OCRID</th>\n",
       "      <th>Projects as responsible Applicant</th>\n",
       "      <th>Projects as Applicant</th>\n",
       "      <th>Projects as Partner</th>\n",
       "      <th>Projects as Practice Partner</th>\n",
       "      <th>Projects as Employee</th>\n",
       "      <th>Projects as Contact Person</th>\n",
       "      <th>projID</th>\n",
       "    </tr>\n",
       "  </thead>\n",
       "  <tbody>\n",
       "    <tr>\n",
       "      <th>1</th>\n",
       "      <td>a Marca</td>\n",
       "      <td>Andrea</td>\n",
       "      <td>male</td>\n",
       "      <td>NaN</td>\n",
       "      <td>NaN</td>\n",
       "      <td>132628</td>\n",
       "      <td>NaN</td>\n",
       "      <td>67368</td>\n",
       "      <td>NaN</td>\n",
       "      <td>NaN</td>\n",
       "      <td>NaN</td>\n",
       "      <td>NaN</td>\n",
       "      <td>NaN</td>\n",
       "      <td>67368</td>\n",
       "    </tr>\n",
       "    <tr>\n",
       "      <th>2</th>\n",
       "      <td>A. Jafari</td>\n",
       "      <td>Golnaz</td>\n",
       "      <td>female</td>\n",
       "      <td>Universität Luzern</td>\n",
       "      <td>Luzern</td>\n",
       "      <td>747886</td>\n",
       "      <td>NaN</td>\n",
       "      <td>191432</td>\n",
       "      <td>NaN</td>\n",
       "      <td>NaN</td>\n",
       "      <td>NaN</td>\n",
       "      <td>NaN</td>\n",
       "      <td>NaN</td>\n",
       "      <td>191432</td>\n",
       "    </tr>\n",
       "    <tr>\n",
       "      <th>7</th>\n",
       "      <td>Aapro</td>\n",
       "      <td>Matti S.</td>\n",
       "      <td>male</td>\n",
       "      <td>Clinique de Genolier F.M.H. Oncologie-Hématolo...</td>\n",
       "      <td>Genolier</td>\n",
       "      <td>3268</td>\n",
       "      <td>NaN</td>\n",
       "      <td>8532;9513</td>\n",
       "      <td>8155</td>\n",
       "      <td>NaN</td>\n",
       "      <td>NaN</td>\n",
       "      <td>NaN</td>\n",
       "      <td>NaN</td>\n",
       "      <td>8532</td>\n",
       "    </tr>\n",
       "    <tr>\n",
       "      <th>7</th>\n",
       "      <td>Aapro</td>\n",
       "      <td>Matti S.</td>\n",
       "      <td>male</td>\n",
       "      <td>Clinique de Genolier F.M.H. Oncologie-Hématolo...</td>\n",
       "      <td>Genolier</td>\n",
       "      <td>3268</td>\n",
       "      <td>NaN</td>\n",
       "      <td>8532;9513</td>\n",
       "      <td>8155</td>\n",
       "      <td>NaN</td>\n",
       "      <td>NaN</td>\n",
       "      <td>NaN</td>\n",
       "      <td>NaN</td>\n",
       "      <td>9513</td>\n",
       "    </tr>\n",
       "    <tr>\n",
       "      <th>11</th>\n",
       "      <td>Aas</td>\n",
       "      <td>Gregor</td>\n",
       "      <td>male</td>\n",
       "      <td>Lehrstuhl für Pflanzenphysiologie Universität ...</td>\n",
       "      <td>Bayreuth</td>\n",
       "      <td>36412</td>\n",
       "      <td>NaN</td>\n",
       "      <td>52037</td>\n",
       "      <td>NaN</td>\n",
       "      <td>NaN</td>\n",
       "      <td>NaN</td>\n",
       "      <td>NaN</td>\n",
       "      <td>NaN</td>\n",
       "      <td>52037</td>\n",
       "    </tr>\n",
       "  </tbody>\n",
       "</table>\n",
       "</div>"
      ],
      "text/plain": [
       "    Last Name First Name  Gender  \\\n",
       "1     a Marca     Andrea    male   \n",
       "2   A. Jafari     Golnaz  female   \n",
       "7       Aapro   Matti S.    male   \n",
       "7       Aapro   Matti S.    male   \n",
       "11        Aas     Gregor    male   \n",
       "\n",
       "                                       Institute Name Institute Place  \\\n",
       "1                                                 NaN             NaN   \n",
       "2                                  Universität Luzern          Luzern   \n",
       "7   Clinique de Genolier F.M.H. Oncologie-Hématolo...        Genolier   \n",
       "7   Clinique de Genolier F.M.H. Oncologie-Hématolo...        Genolier   \n",
       "11  Lehrstuhl für Pflanzenphysiologie Universität ...        Bayreuth   \n",
       "\n",
       "    Person ID SNSF OCRID Projects as responsible Applicant  \\\n",
       "1           132628   NaN                             67368   \n",
       "2           747886   NaN                            191432   \n",
       "7             3268   NaN                         8532;9513   \n",
       "7             3268   NaN                         8532;9513   \n",
       "11           36412   NaN                             52037   \n",
       "\n",
       "   Projects as Applicant Projects as Partner Projects as Practice Partner  \\\n",
       "1                    NaN                 NaN                          NaN   \n",
       "2                    NaN                 NaN                          NaN   \n",
       "7                   8155                 NaN                          NaN   \n",
       "7                   8155                 NaN                          NaN   \n",
       "11                   NaN                 NaN                          NaN   \n",
       "\n",
       "   Projects as Employee Projects as Contact Person  projID  \n",
       "1                   NaN                        NaN   67368  \n",
       "2                   NaN                        NaN  191432  \n",
       "7                   NaN                        NaN    8532  \n",
       "7                   NaN                        NaN    9513  \n",
       "11                  NaN                        NaN   52037  "
      ]
     },
     "execution_count": 33,
     "metadata": {},
     "output_type": "execute_result"
    }
   ],
   "source": [
    "applicants.head(5)"
   ]
  },
  {
   "cell_type": "markdown",
   "metadata": {},
   "source": [
    "## 12.3 Reformatting columns: time\n",
    "\n",
    "We now have in those tables information on both scientists and projects. Among other things we now when each project of each scientist has started via the ```Start Date``` column:"
   ]
  },
  {
   "cell_type": "code",
   "execution_count": 34,
   "metadata": {},
   "outputs": [
    {
     "data": {
      "text/plain": [
       "0         01.04.1993\n",
       "1         01.04.1993\n",
       "2         01.04.1993\n",
       "3         01.04.1993\n",
       "4         01.04.1993\n",
       "             ...    \n",
       "127126    01.04.1990\n",
       "127127    01.04.1991\n",
       "127128    01.11.1998\n",
       "127129    01.11.1992\n",
       "127130    01.10.2008\n",
       "Name: Start Date, Length: 127131, dtype: object"
      ]
     },
     "execution_count": 34,
     "metadata": {},
     "output_type": "execute_result"
    }
   ],
   "source": [
    "merged_empl['Start Date']"
   ]
  },
  {
   "cell_type": "markdown",
   "metadata": {},
   "source": [
    "If we want to do computations with dates (e.g. measuring time spans) we have to change the type of the column. Currently it is indeed just a string. We could parse that string, but Pandas already offers tools to handle dates. For example we can use ```pd.to_datetime``` to transform the string into a Python ```datetime``` format. Let's create a new ```date``` column:"
   ]
  },
  {
   "cell_type": "code",
   "execution_count": 35,
   "metadata": {},
   "outputs": [],
   "source": [
    "merged_empl['date'] = pd.to_datetime(merged_empl['Start Date'])\n",
    "merged_appl['date'] = pd.to_datetime(merged_appl['Start Date'])"
   ]
  },
  {
   "cell_type": "code",
   "execution_count": 36,
   "metadata": {},
   "outputs": [
    {
     "data": {
      "text/plain": [
       "Timestamp('1993-01-04 00:00:00')"
      ]
     },
     "execution_count": 36,
     "metadata": {},
     "output_type": "execute_result"
    }
   ],
   "source": [
    "merged_empl.iloc[0]['date']"
   ]
  },
  {
   "cell_type": "code",
   "execution_count": 37,
   "metadata": {},
   "outputs": [
    {
     "data": {
      "text/plain": [
       "1993"
      ]
     },
     "execution_count": 37,
     "metadata": {},
     "output_type": "execute_result"
    }
   ],
   "source": [
    "merged_empl.iloc[0]['date'].year"
   ]
  },
  {
   "cell_type": "markdown",
   "metadata": {},
   "source": [
    "Let's add a year column to our dataframe:"
   ]
  },
  {
   "cell_type": "code",
   "execution_count": 38,
   "metadata": {},
   "outputs": [],
   "source": [
    "merged_empl['year'] = merged_empl.date.apply(lambda x: x.year)\n",
    "merged_appl['year'] = merged_appl.date.apply(lambda x: x.year)"
   ]
  },
  {
   "cell_type": "markdown",
   "metadata": {},
   "source": [
    "## 12.4 Completing information\n",
    "\n",
    "As we did in the introduction, we want to be able to broadly classify projects into three categories. We therefore search for a specific string ('Humanities', 'Mathematics','Biology') within the 'Discipline Name Hierarchy' column to create a new column called 'Field'^:"
   ]
  },
  {
   "cell_type": "code",
   "execution_count": 39,
   "metadata": {},
   "outputs": [],
   "source": [
    "science_types = ['Humanities', 'Mathematics','Biology']\n",
    "merged_appl['Field'] = merged_appl['Discipline Name Hierarchy'].apply(\n",
    "    lambda el: next((y for y in [x for x in science_types if x in el] if y is not None),None) if not pd.isna(el) else el)\n",
    "                                            "
   ]
  },
  {
   "cell_type": "markdown",
   "metadata": {},
   "source": [
    "We will use the amounts awarded in our analysis. Let's look at that column:"
   ]
  },
  {
   "cell_type": "code",
   "execution_count": 40,
   "metadata": {},
   "outputs": [
    {
     "data": {
      "text/plain": [
       "0                       20120.00\n",
       "1        data not included in P3\n",
       "2                      211427.00\n",
       "3                      174021.00\n",
       "4                        8865.00\n",
       "                  ...           \n",
       "74650                  150524.00\n",
       "74651                  346000.00\n",
       "74652                  262960.00\n",
       "74653                  449517.00\n",
       "74654                 1433628.00\n",
       "Name: Approved Amount, Length: 74655, dtype: object"
      ]
     },
     "execution_count": 40,
     "metadata": {},
     "output_type": "execute_result"
    }
   ],
   "source": [
    "merged_appl['Approved Amount']"
   ]
  },
  {
   "cell_type": "markdown",
   "metadata": {},
   "source": [
    "Problem: we have rows that are not numerical. Let's coerce that column to numerical:"
   ]
  },
  {
   "cell_type": "code",
   "execution_count": 41,
   "metadata": {},
   "outputs": [],
   "source": [
    "merged_appl['Approved Amount'] = pd.to_numeric(merged_appl['Approved Amount'], errors='coerce')"
   ]
  },
  {
   "cell_type": "code",
   "execution_count": 42,
   "metadata": {},
   "outputs": [
    {
     "data": {
      "text/plain": [
       "0          20120.0\n",
       "1              NaN\n",
       "2         211427.0\n",
       "3         174021.0\n",
       "4           8865.0\n",
       "           ...    \n",
       "74650     150524.0\n",
       "74651     346000.0\n",
       "74652     262960.0\n",
       "74653     449517.0\n",
       "74654    1433628.0\n",
       "Name: Approved Amount, Length: 74655, dtype: float64"
      ]
     },
     "execution_count": 42,
     "metadata": {},
     "output_type": "execute_result"
    }
   ],
   "source": [
    "merged_appl['Approved Amount']"
   ]
  },
  {
   "cell_type": "markdown",
   "metadata": {},
   "source": [
    "## 12.5 Data anaylsis\n",
    "\n",
    "We are finally done tidying up our tables so that we can do proper data analysis. We can *aggregate* data to answer some questions."
   ]
  },
  {
   "cell_type": "markdown",
   "metadata": {},
   "source": [
    "### 12.5.1 Amounts by gender\n",
    " Let's see for example what is the average amount awarded every year, split by gender. We keep only the 'Project funding' category to avoid obscuring the results with large funds awarded for specific projects (PNR etc):"
   ]
  },
  {
   "cell_type": "code",
   "execution_count": 44,
   "metadata": {},
   "outputs": [],
   "source": [
    "merged_projects = merged_appl[merged_appl['Funding Instrument Hierarchy'] == 'Project funding']"
   ]
  },
  {
   "cell_type": "code",
   "execution_count": 45,
   "metadata": {},
   "outputs": [
    {
     "data": {
      "text/html": [
       "<div>\n",
       "<style scoped>\n",
       "    .dataframe tbody tr th:only-of-type {\n",
       "        vertical-align: middle;\n",
       "    }\n",
       "\n",
       "    .dataframe tbody tr th {\n",
       "        vertical-align: top;\n",
       "    }\n",
       "\n",
       "    .dataframe thead th {\n",
       "        text-align: right;\n",
       "    }\n",
       "</style>\n",
       "<table border=\"1\" class=\"dataframe\">\n",
       "  <thead>\n",
       "    <tr style=\"text-align: right;\">\n",
       "      <th></th>\n",
       "      <th>Gender</th>\n",
       "      <th>year</th>\n",
       "      <th>Approved Amount</th>\n",
       "    </tr>\n",
       "  </thead>\n",
       "  <tbody>\n",
       "    <tr>\n",
       "      <th>0</th>\n",
       "      <td>female</td>\n",
       "      <td>1975.0</td>\n",
       "      <td>101433.200000</td>\n",
       "    </tr>\n",
       "    <tr>\n",
       "      <th>1</th>\n",
       "      <td>female</td>\n",
       "      <td>1976.0</td>\n",
       "      <td>145017.750000</td>\n",
       "    </tr>\n",
       "    <tr>\n",
       "      <th>2</th>\n",
       "      <td>female</td>\n",
       "      <td>1977.0</td>\n",
       "      <td>177826.157895</td>\n",
       "    </tr>\n",
       "    <tr>\n",
       "      <th>3</th>\n",
       "      <td>female</td>\n",
       "      <td>1978.0</td>\n",
       "      <td>141489.857143</td>\n",
       "    </tr>\n",
       "    <tr>\n",
       "      <th>4</th>\n",
       "      <td>female</td>\n",
       "      <td>1979.0</td>\n",
       "      <td>218496.904762</td>\n",
       "    </tr>\n",
       "    <tr>\n",
       "      <th>...</th>\n",
       "      <td>...</td>\n",
       "      <td>...</td>\n",
       "      <td>...</td>\n",
       "    </tr>\n",
       "    <tr>\n",
       "      <th>87</th>\n",
       "      <td>male</td>\n",
       "      <td>2016.0</td>\n",
       "      <td>429717.055907</td>\n",
       "    </tr>\n",
       "    <tr>\n",
       "      <th>88</th>\n",
       "      <td>male</td>\n",
       "      <td>2017.0</td>\n",
       "      <td>507521.397098</td>\n",
       "    </tr>\n",
       "    <tr>\n",
       "      <th>89</th>\n",
       "      <td>male</td>\n",
       "      <td>2018.0</td>\n",
       "      <td>582461.020513</td>\n",
       "    </tr>\n",
       "    <tr>\n",
       "      <th>90</th>\n",
       "      <td>male</td>\n",
       "      <td>2019.0</td>\n",
       "      <td>624826.387985</td>\n",
       "    </tr>\n",
       "    <tr>\n",
       "      <th>91</th>\n",
       "      <td>male</td>\n",
       "      <td>2020.0</td>\n",
       "      <td>617256.523404</td>\n",
       "    </tr>\n",
       "  </tbody>\n",
       "</table>\n",
       "<p>92 rows × 3 columns</p>\n",
       "</div>"
      ],
      "text/plain": [
       "    Gender    year  Approved Amount\n",
       "0   female  1975.0    101433.200000\n",
       "1   female  1976.0    145017.750000\n",
       "2   female  1977.0    177826.157895\n",
       "3   female  1978.0    141489.857143\n",
       "4   female  1979.0    218496.904762\n",
       "..     ...     ...              ...\n",
       "87    male  2016.0    429717.055907\n",
       "88    male  2017.0    507521.397098\n",
       "89    male  2018.0    582461.020513\n",
       "90    male  2019.0    624826.387985\n",
       "91    male  2020.0    617256.523404\n",
       "\n",
       "[92 rows x 3 columns]"
      ]
     },
     "execution_count": 45,
     "metadata": {},
     "output_type": "execute_result"
    }
   ],
   "source": [
    "grouped_gender = merged_projects.groupby(['Gender','year'])['Approved Amount'].mean().reset_index()\n",
    "grouped_gender"
   ]
  },
  {
   "cell_type": "markdown",
   "metadata": {},
   "source": [
    "To generate a plot, we use here Seaborn which uses some elements of a grammar of graphics. For example we can assign variables to each \"aspect\" of our plot. Here x and y axis are year and amount while color ('hue') is the gender. In one line, we can generate a plot that compiles all the information:"
   ]
  },
  {
   "cell_type": "code",
   "execution_count": 46,
   "metadata": {},
   "outputs": [
    {
     "data": {
      "text/plain": [
       "<matplotlib.axes._subplots.AxesSubplot at 0x122c5d0d0>"
      ]
     },
     "execution_count": 46,
     "metadata": {},
     "output_type": "execute_result"
    },
    {
     "data": {
      "image/png": "[encoded data removed]",
      "text/plain": [
       "<Figure size 432x288 with 1 Axes>"
      ]
     },
     "metadata": {
      "needs_background": "light"
     },
     "output_type": "display_data"
    }
   ],
   "source": [
    "sns.lineplot(data = grouped_gender, x='year', y='Approved Amount', hue='Gender')"
   ]
  },
  {
   "cell_type": "markdown",
   "metadata": {},
   "source": [
    "There seems to be a small but systematic difference in the average amount awarded.\n",
    "\n",
    "We can now use a plotting library that is essentially a Python port of ggplot to add even more complexity to this plot. For example, let's split the data also by Field:"
   ]
  },
  {
   "cell_type": "code",
   "execution_count": 47,
   "metadata": {},
   "outputs": [],
   "source": [
    "import plotnine as p9"
   ]
  },
  {
   "cell_type": "code",
   "execution_count": 48,
   "metadata": {},
   "outputs": [],
   "source": [
    "grouped_gender_field = merged_projects.groupby(['Gender','year','Field'])['Approved Amount'].mean().reset_index()\n"
   ]
  },
  {
   "cell_type": "code",
   "execution_count": 49,
   "metadata": {},
   "outputs": [
    {
     "data": {
      "text/html": [
       "<div>\n",
       "<style scoped>\n",
       "    .dataframe tbody tr th:only-of-type {\n",
       "        vertical-align: middle;\n",
       "    }\n",
       "\n",
       "    .dataframe tbody tr th {\n",
       "        vertical-align: top;\n",
       "    }\n",
       "\n",
       "    .dataframe thead th {\n",
       "        text-align: right;\n",
       "    }\n",
       "</style>\n",
       "<table border=\"1\" class=\"dataframe\">\n",
       "  <thead>\n",
       "    <tr style=\"text-align: right;\">\n",
       "      <th></th>\n",
       "      <th>Gender</th>\n",
       "      <th>year</th>\n",
       "      <th>Field</th>\n",
       "      <th>Approved Amount</th>\n",
       "    </tr>\n",
       "  </thead>\n",
       "  <tbody>\n",
       "    <tr>\n",
       "      <th>0</th>\n",
       "      <td>female</td>\n",
       "      <td>1975.0</td>\n",
       "      <td>Biology</td>\n",
       "      <td>95049.000000</td>\n",
       "    </tr>\n",
       "    <tr>\n",
       "      <th>1</th>\n",
       "      <td>female</td>\n",
       "      <td>1975.0</td>\n",
       "      <td>Humanities</td>\n",
       "      <td>95451.666667</td>\n",
       "    </tr>\n",
       "    <tr>\n",
       "      <th>2</th>\n",
       "      <td>female</td>\n",
       "      <td>1975.0</td>\n",
       "      <td>Mathematics</td>\n",
       "      <td>125762.000000</td>\n",
       "    </tr>\n",
       "    <tr>\n",
       "      <th>3</th>\n",
       "      <td>female</td>\n",
       "      <td>1976.0</td>\n",
       "      <td>Biology</td>\n",
       "      <td>183154.200000</td>\n",
       "    </tr>\n",
       "    <tr>\n",
       "      <th>4</th>\n",
       "      <td>female</td>\n",
       "      <td>1976.0</td>\n",
       "      <td>Humanities</td>\n",
       "      <td>68590.750000</td>\n",
       "    </tr>\n",
       "    <tr>\n",
       "      <th>...</th>\n",
       "      <td>...</td>\n",
       "      <td>...</td>\n",
       "      <td>...</td>\n",
       "      <td>...</td>\n",
       "    </tr>\n",
       "    <tr>\n",
       "      <th>271</th>\n",
       "      <td>male</td>\n",
       "      <td>2019.0</td>\n",
       "      <td>Humanities</td>\n",
       "      <td>523397.013072</td>\n",
       "    </tr>\n",
       "    <tr>\n",
       "      <th>272</th>\n",
       "      <td>male</td>\n",
       "      <td>2019.0</td>\n",
       "      <td>Mathematics</td>\n",
       "      <td>632188.796040</td>\n",
       "    </tr>\n",
       "    <tr>\n",
       "      <th>273</th>\n",
       "      <td>male</td>\n",
       "      <td>2020.0</td>\n",
       "      <td>Biology</td>\n",
       "      <td>694705.243590</td>\n",
       "    </tr>\n",
       "    <tr>\n",
       "      <th>274</th>\n",
       "      <td>male</td>\n",
       "      <td>2020.0</td>\n",
       "      <td>Humanities</td>\n",
       "      <td>520925.507246</td>\n",
       "    </tr>\n",
       "    <tr>\n",
       "      <th>275</th>\n",
       "      <td>male</td>\n",
       "      <td>2020.0</td>\n",
       "      <td>Mathematics</td>\n",
       "      <td>624141.068182</td>\n",
       "    </tr>\n",
       "  </tbody>\n",
       "</table>\n",
       "<p>276 rows × 4 columns</p>\n",
       "</div>"
      ],
      "text/plain": [
       "     Gender    year        Field  Approved Amount\n",
       "0    female  1975.0      Biology     95049.000000\n",
       "1    female  1975.0   Humanities     95451.666667\n",
       "2    female  1975.0  Mathematics    125762.000000\n",
       "3    female  1976.0      Biology    183154.200000\n",
       "4    female  1976.0   Humanities     68590.750000\n",
       "..      ...     ...          ...              ...\n",
       "271    male  2019.0   Humanities    523397.013072\n",
       "272    male  2019.0  Mathematics    632188.796040\n",
       "273    male  2020.0      Biology    694705.243590\n",
       "274    male  2020.0   Humanities    520925.507246\n",
       "275    male  2020.0  Mathematics    624141.068182\n",
       "\n",
       "[276 rows x 4 columns]"
      ]
     },
     "execution_count": 49,
     "metadata": {},
     "output_type": "execute_result"
    }
   ],
   "source": [
    "grouped_gender_field"
   ]
  },
  {
   "cell_type": "code",
   "execution_count": 50,
   "metadata": {},
   "outputs": [
    {
     "data": {
      "image/png": "[encoded data removed]",
      "text/plain": [
       "<Figure size 640x480 with 3 Axes>"
      ]
     },
     "metadata": {},
     "output_type": "display_data"
    },
    {
     "data": {
      "text/plain": [
       "<ggplot: (305412337)>"
      ]
     },
     "execution_count": 50,
     "metadata": {},
     "output_type": "execute_result"
    }
   ],
   "source": [
    "(p9.ggplot(grouped_gender_field, p9.aes('year', 'Approved Amount', color='Gender'))\n",
    " + p9.geom_point()\n",
    " + p9.geom_line()\n",
    " + p9.facet_wrap('~Field'))"
   ]
  },
  {
   "cell_type": "markdown",
   "metadata": {},
   "source": [
    "### 12.5.2 From employee to applicant\n",
    "\n",
    "One of the questions we wanted to answer above was how much time goes by between the first time a scientist is mentioned as \"employee\" on an application and the first time he applies as main applicant. We have therefore to:\n",
    "1. Find all rows corresponding to a specific scientist\n",
    "2. Find the earliest date of project\n",
    "\n",
    "For (1) we can use ```groupby``` and use the ```Person ID SNSF``` ID which is a unique ID assigned to each researcher. Once this *aggregation* is done, we can summarize each group by looking for the \"minimal\" date:"
   ]
  },
  {
   "cell_type": "code",
   "execution_count": 51,
   "metadata": {},
   "outputs": [],
   "source": [
    "first_empl = merged_empl.groupby('Person ID SNSF').date.min().reset_index()\n",
    "first_appl = merged_appl.groupby('Person ID SNSF').date.min().reset_index()"
   ]
  },
  {
   "cell_type": "markdown",
   "metadata": {},
   "source": [
    "We have now two dataframes indexed by the ```Person ID```:"
   ]
  },
  {
   "cell_type": "code",
   "execution_count": 52,
   "metadata": {},
   "outputs": [
    {
     "data": {
      "text/html": [
       "<div>\n",
       "<style scoped>\n",
       "    .dataframe tbody tr th:only-of-type {\n",
       "        vertical-align: middle;\n",
       "    }\n",
       "\n",
       "    .dataframe tbody tr th {\n",
       "        vertical-align: top;\n",
       "    }\n",
       "\n",
       "    .dataframe thead th {\n",
       "        text-align: right;\n",
       "    }\n",
       "</style>\n",
       "<table border=\"1\" class=\"dataframe\">\n",
       "  <thead>\n",
       "    <tr style=\"text-align: right;\">\n",
       "      <th></th>\n",
       "      <th>Person ID SNSF</th>\n",
       "      <th>date</th>\n",
       "    </tr>\n",
       "  </thead>\n",
       "  <tbody>\n",
       "    <tr>\n",
       "      <th>0</th>\n",
       "      <td>1611</td>\n",
       "      <td>1990-01-10</td>\n",
       "    </tr>\n",
       "    <tr>\n",
       "      <th>1</th>\n",
       "      <td>1659</td>\n",
       "      <td>1988-01-11</td>\n",
       "    </tr>\n",
       "    <tr>\n",
       "      <th>2</th>\n",
       "      <td>1661</td>\n",
       "      <td>1978-01-07</td>\n",
       "    </tr>\n",
       "    <tr>\n",
       "      <th>3</th>\n",
       "      <td>1694</td>\n",
       "      <td>1978-01-06</td>\n",
       "    </tr>\n",
       "    <tr>\n",
       "      <th>4</th>\n",
       "      <td>1712</td>\n",
       "      <td>1982-01-04</td>\n",
       "    </tr>\n",
       "  </tbody>\n",
       "</table>\n",
       "</div>"
      ],
      "text/plain": [
       "   Person ID SNSF       date\n",
       "0            1611 1990-01-10\n",
       "1            1659 1988-01-11\n",
       "2            1661 1978-01-07\n",
       "3            1694 1978-01-06\n",
       "4            1712 1982-01-04"
      ]
     },
     "execution_count": 52,
     "metadata": {},
     "output_type": "execute_result"
    }
   ],
   "source": [
    "first_empl.head(5)"
   ]
  },
  {
   "cell_type": "markdown",
   "metadata": {},
   "source": [
    "Now we can again merge the two series to be able to compare applicant/employee start dates for single people:"
   ]
  },
  {
   "cell_type": "code",
   "execution_count": 53,
   "metadata": {},
   "outputs": [],
   "source": [
    "merge_first = pd.merge(first_appl, first_empl, on = 'Person ID SNSF', suffixes=('_appl', '_empl'))"
   ]
  },
  {
   "cell_type": "code",
   "execution_count": 54,
   "metadata": {},
   "outputs": [
    {
     "data": {
      "text/html": [
       "<div>\n",
       "<style scoped>\n",
       "    .dataframe tbody tr th:only-of-type {\n",
       "        vertical-align: middle;\n",
       "    }\n",
       "\n",
       "    .dataframe tbody tr th {\n",
       "        vertical-align: top;\n",
       "    }\n",
       "\n",
       "    .dataframe thead th {\n",
       "        text-align: right;\n",
       "    }\n",
       "</style>\n",
       "<table border=\"1\" class=\"dataframe\">\n",
       "  <thead>\n",
       "    <tr style=\"text-align: right;\">\n",
       "      <th></th>\n",
       "      <th>Person ID SNSF</th>\n",
       "      <th>date_appl</th>\n",
       "      <th>date_empl</th>\n",
       "    </tr>\n",
       "  </thead>\n",
       "  <tbody>\n",
       "    <tr>\n",
       "      <th>0</th>\n",
       "      <td>1659</td>\n",
       "      <td>1975-01-10</td>\n",
       "      <td>1988-01-11</td>\n",
       "    </tr>\n",
       "    <tr>\n",
       "      <th>1</th>\n",
       "      <td>1661</td>\n",
       "      <td>1978-01-07</td>\n",
       "      <td>1978-01-07</td>\n",
       "    </tr>\n",
       "    <tr>\n",
       "      <th>2</th>\n",
       "      <td>1694</td>\n",
       "      <td>1985-01-01</td>\n",
       "      <td>1978-01-06</td>\n",
       "    </tr>\n",
       "    <tr>\n",
       "      <th>3</th>\n",
       "      <td>1712</td>\n",
       "      <td>1982-01-04</td>\n",
       "      <td>1982-01-04</td>\n",
       "    </tr>\n",
       "    <tr>\n",
       "      <th>4</th>\n",
       "      <td>1726</td>\n",
       "      <td>1985-01-03</td>\n",
       "      <td>1985-01-03</td>\n",
       "    </tr>\n",
       "    <tr>\n",
       "      <th>...</th>\n",
       "      <td>...</td>\n",
       "      <td>...</td>\n",
       "      <td>...</td>\n",
       "    </tr>\n",
       "    <tr>\n",
       "      <th>10336</th>\n",
       "      <td>748652</td>\n",
       "      <td>2019-01-12</td>\n",
       "      <td>2019-01-12</td>\n",
       "    </tr>\n",
       "    <tr>\n",
       "      <th>10337</th>\n",
       "      <td>748760</td>\n",
       "      <td>2020-01-03</td>\n",
       "      <td>2020-01-03</td>\n",
       "    </tr>\n",
       "    <tr>\n",
       "      <th>10338</th>\n",
       "      <td>749430</td>\n",
       "      <td>2020-01-04</td>\n",
       "      <td>2020-01-04</td>\n",
       "    </tr>\n",
       "    <tr>\n",
       "      <th>10339</th>\n",
       "      <td>749991</td>\n",
       "      <td>2020-01-03</td>\n",
       "      <td>2020-01-03</td>\n",
       "    </tr>\n",
       "    <tr>\n",
       "      <th>10340</th>\n",
       "      <td>750593</td>\n",
       "      <td>2020-01-01</td>\n",
       "      <td>2020-01-01</td>\n",
       "    </tr>\n",
       "  </tbody>\n",
       "</table>\n",
       "<p>10341 rows × 3 columns</p>\n",
       "</div>"
      ],
      "text/plain": [
       "       Person ID SNSF  date_appl  date_empl\n",
       "0                1659 1975-01-10 1988-01-11\n",
       "1                1661 1978-01-07 1978-01-07\n",
       "2                1694 1985-01-01 1978-01-06\n",
       "3                1712 1982-01-04 1982-01-04\n",
       "4                1726 1985-01-03 1985-01-03\n",
       "...               ...        ...        ...\n",
       "10336          748652 2019-01-12 2019-01-12\n",
       "10337          748760 2020-01-03 2020-01-03\n",
       "10338          749430 2020-01-04 2020-01-04\n",
       "10339          749991 2020-01-03 2020-01-03\n",
       "10340          750593 2020-01-01 2020-01-01\n",
       "\n",
       "[10341 rows x 3 columns]"
      ]
     },
     "execution_count": 54,
     "metadata": {},
     "output_type": "execute_result"
    }
   ],
   "source": [
    "merge_first"
   ]
  },
  {
   "cell_type": "markdown",
   "metadata": {},
   "source": [
    "Finally we merge with the full table, based on the index to recover the other paramters:"
   ]
  },
  {
   "cell_type": "code",
   "execution_count": 55,
   "metadata": {},
   "outputs": [],
   "source": [
    "full_table = pd.merge(merge_first, merged_appl,on = 'Person ID SNSF')"
   ]
  },
  {
   "cell_type": "markdown",
   "metadata": {},
   "source": [
    "Finally we can add a column to that dataframe as a \"difference in dates\":"
   ]
  },
  {
   "cell_type": "code",
   "execution_count": 56,
   "metadata": {},
   "outputs": [],
   "source": [
    "full_table['time_diff'] = full_table.date_appl-full_table.date_empl"
   ]
  },
  {
   "cell_type": "code",
   "execution_count": 57,
   "metadata": {},
   "outputs": [],
   "source": [
    "full_table.time_diff = full_table.time_diff.apply(lambda x: x.days/365)"
   ]
  },
  {
   "cell_type": "code",
   "execution_count": 58,
   "metadata": {},
   "outputs": [
    {
     "data": {
      "text/plain": [
       "array([[<matplotlib.axes._subplots.AxesSubplot object at 0x12ba24970>]],\n",
       "      dtype=object)"
      ]
     },
     "execution_count": 58,
     "metadata": {},
     "output_type": "execute_result"
    },
    {
     "data": {
      "image/png": "[encoded data removed]",
      "text/plain": [
       "<Figure size 432x288 with 1 Axes>"
      ]
     },
     "metadata": {
      "needs_background": "light"
     },
     "output_type": "display_data"
    }
   ],
   "source": [
    "full_table.hist(column='time_diff',bins = 50)"
   ]
  },
  {
   "cell_type": "markdown",
   "metadata": {},
   "source": [
    "We see that we have one strong peak at $\\Delta T==0$ which corresponds to people who were paid for the first time through an SNSF grant when they applied themselves. The remaining cases have a peak around $\\Delta T==5$ which typically corresponds to the case where a PhD student was payed on a grant and then applied for a postdoc grant ~4-5 years later.\n",
    "\n",
    "We can go further and ask how dependent this waiting time is on the Field of research. Obviously Humanities are structured very differently "
   ]
  },
  {
   "cell_type": "code",
   "execution_count": 60,
   "metadata": {},
   "outputs": [
    {
     "data": {
      "image/png": "[encoded data removed]",
      "text/plain": [
       "<Figure size 432x288 with 1 Axes>"
      ]
     },
     "metadata": {
      "needs_background": "light"
     },
     "output_type": "display_data"
    }
   ],
   "source": [
    "sns.boxplot(data=full_table, y='time_diff', x='Field');"
   ]
  },
  {
   "cell_type": "code",
   "execution_count": 61,
   "metadata": {},
   "outputs": [
    {
     "data": {
      "image/png": "[encoded data removed]",
      "text/plain": [
       "<Figure size 432x288 with 1 Axes>"
      ]
     },
     "metadata": {
      "needs_background": "light"
     },
     "output_type": "display_data"
    }
   ],
   "source": [
    "sns.violinplot(data=full_table, y='time_diff', x='Field', );"
   ]
  }
 ],
 "metadata": {
  "kernelspec": {
   "display_name": "Python 3",
   "language": "python",
   "name": "python3"
  },
  "language_info": {
   "codemirror_mode": {
    "name": "ipython",
    "version": 3
   },
   "file_extension": ".py",
   "mimetype": "text/x-python",
   "name": "python",
   "nbconvert_exporter": "python",
   "pygments_lexer": "ipython3",
   "version": "3.8.2"
  }
 },
 "nbformat": 4,
 "nbformat_minor": 4
}
